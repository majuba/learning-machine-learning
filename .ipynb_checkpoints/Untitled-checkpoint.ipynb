{
 "cells": [
  {
   "cell_type": "code",
   "execution_count": 16,
   "id": "6dd0be49-8af3-4e1a-a8b7-06d52470fa77",
   "metadata": {},
   "outputs": [],
   "source": [
    "import torch\n",
    "from torch import nn\n",
    "from torch.utils.data import DataLoader\n",
    "from torchvision import datasets\n",
    "from torchvision.transforms import ToTensor"
   ]
  },
  {
   "cell_type": "code",
   "execution_count": 17,
   "id": "6f6e91fb-facc-4978-9612-d2baba31a573",
   "metadata": {},
   "outputs": [],
   "source": [
    "training_data = datasets.FashionMNIST(\n",
    "    root=\"data\",\n",
    "    train=True,\n",
    "    download=True,\n",
    "    transform=ToTensor(),\n",
    ")\n",
    "\n",
    "test_data = datasets.FashionMNIST(\n",
    "    root=\"data\",\n",
    "    train=False,\n",
    "    download=True,\n",
    "    transform=ToTensor(),\n",
    ")"
   ]
  },
  {
   "cell_type": "code",
   "execution_count": 18,
   "id": "3de4b54e-9387-47ca-93f3-aab1547dbba8",
   "metadata": {},
   "outputs": [
    {
     "data": {
      "text/plain": [
       "torchvision.datasets.mnist.FashionMNIST"
      ]
     },
     "execution_count": 18,
     "metadata": {},
     "output_type": "execute_result"
    }
   ],
   "source": [
    "type(training_data)"
   ]
  },
  {
   "cell_type": "code",
   "execution_count": 19,
   "id": "0a9ac130-afba-4c63-9a8d-866565448b75",
   "metadata": {},
   "outputs": [],
   "source": [
    "batch_size = 64\n",
    "\n",
    "train_dataloader = DataLoader(training_data, batch_size=batch_size)\n",
    "test_dataloader = DataLoader(test_data, batch_size=batch_size)"
   ]
  },
  {
   "cell_type": "code",
   "execution_count": 20,
   "id": "820ee90c-2d98-46f3-ac6c-038ecc4b9bda",
   "metadata": {},
   "outputs": [],
   "source": [
    "%matplotlib inline "
   ]
  },
  {
   "cell_type": "code",
   "execution_count": 21,
   "id": "ef26fe02-6ac7-47ac-a21a-168ac1c99dff",
   "metadata": {},
   "outputs": [],
   "source": [
    "from matplotlib import pyplot as plt"
   ]
  },
  {
   "cell_type": "code",
   "execution_count": 22,
   "id": "f1b768cd-babf-4701-b1c2-9a4a2947c460",
   "metadata": {},
   "outputs": [],
   "source": [
    "img, label = test_data[0]"
   ]
  },
  {
   "cell_type": "code",
   "execution_count": 23,
   "id": "daf769cf-e495-48ac-865c-6ce036dd4713",
   "metadata": {},
   "outputs": [
    {
     "data": {
      "text/plain": [
       "<matplotlib.image.AxesImage at 0x169142ed0>"
      ]
     },
     "execution_count": 23,
     "metadata": {},
     "output_type": "execute_result"
    },
    {
     "data": {
      "image/png": "[encoded data removed]",
      "text/plain": [
       "<Figure size 640x480 with 1 Axes>"
      ]
     },
     "metadata": {},
     "output_type": "display_data"
    }
   ],
   "source": [
    "plt.imshow(img.squeeze(), cmap=\"gray\")"
   ]
  },
  {
   "cell_type": "code",
   "execution_count": 24,
   "id": "141f2431-7732-41e6-8499-9c6c51e42197",
   "metadata": {},
   "outputs": [],
   "source": [
    "labels_map = {\n",
    "    0: \"T-Shirt\",\n",
    "    1: \"Trouser\",\n",
    "    2: \"Pullover\",\n",
    "    3: \"Dress\",\n",
    "    4: \"Coat\",\n",
    "    5: \"Sandal\",\n",
    "    6: \"Shirt\",\n",
    "    7: \"Sneaker\",\n",
    "    8: \"Bag\",\n",
    "    9: \"Ankle Boot\",\n",
    "}"
   ]
  },
  {
   "cell_type": "code",
   "execution_count": 25,
   "id": "77d0e75f-bb94-4a2c-865e-33128081022d",
   "metadata": {},
   "outputs": [
    {
     "data": {
      "text/plain": [
       "'Ankle Boot'"
      ]
     },
     "execution_count": 25,
     "metadata": {},
     "output_type": "execute_result"
    }
   ],
   "source": [
    "labels_map[label]"
   ]
  },
  {
   "cell_type": "code",
   "execution_count": 26,
   "id": "b9b657b2-eee5-4d1a-8502-0b546353fd77",
   "metadata": {},
   "outputs": [
    {
     "name": "stdout",
     "output_type": "stream",
     "text": [
      "Using mps device\n"
     ]
    }
   ],
   "source": [
    "# mps in our case \n",
    "device = (\n",
    "    \"cuda\"\n",
    "    if torch.cuda.is_available()\n",
    "    else \"mps\"\n",
    "    if torch.backends.mps.is_available()\n",
    "    else \"cpu\"\n",
    ")\n",
    "print(f\"Using {device} device\")"
   ]
  },
  {
   "cell_type": "code",
   "execution_count": 27,
   "id": "260dd0d3-6ebc-4a41-af05-9ae55dddd84b",
   "metadata": {},
   "outputs": [
    {
     "name": "stdout",
     "output_type": "stream",
     "text": [
      "NNetwork(\n",
      "  (flatten): Flatten(start_dim=1, end_dim=-1)\n",
      "  (linear_relu_stack): Sequential(\n",
      "    (0): Linear(in_features=784, out_features=512, bias=True)\n",
      "    (1): ReLU()\n",
      "    (2): Linear(in_features=512, out_features=512, bias=True)\n",
      "    (3): ReLU()\n",
      "    (4): Linear(in_features=512, out_features=10, bias=True)\n",
      "  )\n",
      ")\n"
     ]
    }
   ],
   "source": [
    "class NNetwork(nn.Module):\n",
    "    def __init__(self):\n",
    "        super().__init__()\n",
    "        self.flatten = nn.Flatten()\n",
    "        self.linear_relu_stack = nn.Sequential(\n",
    "            nn.Linear(28*28, 512),\n",
    "            nn.ReLU(),\n",
    "            nn.Linear(512,512),\n",
    "            nn.ReLU(),\n",
    "            nn.Linear(512,10)\n",
    "        )\n",
    "\n",
    "    def forward(self, x):\n",
    "        x = self.flatten(x)\n",
    "        logits = self.linear_relu_stack(x)\n",
    "        return logits\n",
    "\n",
    "# moving the model to relevant device\n",
    "model = NNetwork().to(device)\n",
    "print(model)"
   ]
  },
  {
   "cell_type": "code",
   "execution_count": 28,
   "id": "1e07f5c8-ec4b-4c1a-89d4-14eebb946728",
   "metadata": {},
   "outputs": [],
   "source": [
    "loss_fn = nn.CrossEntropyLoss()\n",
    "optimizer = torch.optim.SGD(model.parameters(), lr=1e-2)"
   ]
  },
  {
   "cell_type": "code",
   "execution_count": 29,
   "id": "a5afaf52-83ad-4165-a536-9a3efc008858",
   "metadata": {},
   "outputs": [],
   "source": [
    "def train(dataloader, model, loss_fn, optimizer):\n",
    "    size = len(dataloader.dataset)\n",
    "    model.train()\n",
    "    for batch, (X,y) in enumerate(dataloader):\n",
    "        X, y = X.to(device), y.to(device)\n",
    "\n",
    "        pred = model(X)\n",
    "        loss = loss_fn(pred, y)\n",
    "\n",
    "        # backpropagation. Actually, this is batch gradient descent, stochastic if batch_size=1\n",
    "        loss.backward()\n",
    "        optimizer.step()\n",
    "        optimizer.zero_grad()\n",
    "\n",
    "        if batch % 100 == 0:\n",
    "            loss, current = loss.item(), (batch + 1) * len(X)\n",
    "            print(f\"loss: {loss:>7f}  [{current:>5d}/{size:>5d}]\")\n",
    "\n",
    "def test(dataloader, model, loss_fn):\n",
    "    size = len(dataloader.dataset)\n",
    "    num_batches = len(dataloader)\n",
    "    model.eval()\n",
    "    test_loss, correct = 0,0\n",
    "    with torch.no_grad():\n",
    "        for X,y in dataloader:\n",
    "            X,y = X.to(device), y.to(device)\n",
    "            pred = model(X)\n",
    "            test_loss += loss_fn(pred, y).item()\n",
    "            correct += (pred.argmax(1)==y).type(torch.float).sum().item()\n",
    "    test_loss /= num_batches\n",
    "    correct /= size \n",
    "    print(f\"Test Error: \\n Accuracy: {(100*correct):>0.1f}%, Avg loss: {test_loss:>8f} \\n\")"
   ]
  },
  {
   "cell_type": "code",
   "execution_count": 30,
   "id": "50b80b86-85da-4178-b5ac-509cecc55b54",
   "metadata": {},
   "outputs": [
    {
     "name": "stdout",
     "output_type": "stream",
     "text": [
      "Epoch 1\n",
      "-----------------------\n",
      "loss: 2.302197  [   64/60000]\n",
      "loss: 2.142169  [ 6464/60000]\n",
      "loss: 1.740829  [12864/60000]\n",
      "loss: 1.462694  [19264/60000]\n",
      "loss: 1.119887  [25664/60000]\n",
      "loss: 1.026672  [32064/60000]\n",
      "loss: 0.993075  [38464/60000]\n",
      "loss: 0.861004  [44864/60000]\n",
      "loss: 0.872928  [51264/60000]\n",
      "loss: 0.810578  [57664/60000]\n",
      "Test Error: \n",
      " Accuracy: 71.7%, Avg loss: 0.788189 \n",
      "\n",
      "Epoch 2\n",
      "-----------------------\n",
      "loss: 0.790266  [   64/60000]\n",
      "loss: 0.860051  [ 6464/60000]\n",
      "loss: 0.577830  [12864/60000]\n",
      "loss: 0.779416  [19264/60000]\n",
      "loss: 0.664191  [25664/60000]\n",
      "loss: 0.628859  [32064/60000]\n",
      "loss: 0.704813  [38464/60000]\n",
      "loss: 0.676982  [44864/60000]\n",
      "loss: 0.706171  [51264/60000]\n",
      "loss: 0.641670  [57664/60000]\n",
      "Test Error: \n",
      " Accuracy: 78.2%, Avg loss: 0.630983 \n",
      "\n",
      "Epoch 3\n",
      "-----------------------\n",
      "loss: 0.556932  [   64/60000]\n",
      "loss: 0.659861  [ 6464/60000]\n",
      "loss: 0.429121  [12864/60000]\n",
      "loss: 0.664406  [19264/60000]\n",
      "loss: 0.582425  [25664/60000]\n",
      "loss: 0.551107  [32064/60000]\n",
      "loss: 0.584539  [38464/60000]\n",
      "loss: 0.635113  [44864/60000]\n",
      "loss: 0.665332  [51264/60000]\n",
      "loss: 0.548918  [57664/60000]\n",
      "Test Error: \n",
      " Accuracy: 80.0%, Avg loss: 0.568859 \n",
      "\n",
      "Epoch 4\n",
      "-----------------------\n",
      "loss: 0.461312  [   64/60000]\n",
      "loss: 0.571215  [ 6464/60000]\n",
      "loss: 0.370242  [12864/60000]\n",
      "loss: 0.600085  [19264/60000]\n",
      "loss: 0.529290  [25664/60000]\n",
      "loss: 0.509487  [32064/60000]\n",
      "loss: 0.530626  [38464/60000]\n",
      "loss: 0.636377  [44864/60000]\n",
      "loss: 0.643751  [51264/60000]\n",
      "loss: 0.483953  [57664/60000]\n",
      "Test Error: \n",
      " Accuracy: 80.7%, Avg loss: 0.538113 \n",
      "\n",
      "Epoch 5\n",
      "-----------------------\n",
      "loss: 0.404176  [   64/60000]\n",
      "loss: 0.527808  [ 6464/60000]\n",
      "loss: 0.338497  [12864/60000]\n",
      "loss: 0.555947  [19264/60000]\n",
      "loss: 0.488885  [25664/60000]\n",
      "loss: 0.479596  [32064/60000]\n",
      "loss: 0.499894  [38464/60000]\n",
      "loss: 0.633619  [44864/60000]\n",
      "loss: 0.620023  [51264/60000]\n",
      "loss: 0.445786  [57664/60000]\n",
      "Test Error: \n",
      " Accuracy: 81.5%, Avg loss: 0.518246 \n",
      "\n",
      "Done!\n"
     ]
    }
   ],
   "source": [
    "epochs = 5\n",
    "for t in range(epochs):\n",
    "    print(f\"Epoch {t+1}\\n-----------------------\")\n",
    "    train(train_dataloader, model, loss_fn, optimizer)\n",
    "    test(test_dataloader, model, loss_fn)\n",
    "print(\"Done!\")"
   ]
  },
  {
   "cell_type": "code",
   "execution_count": 51,
   "id": "0e0fb450-bed8-4f68-a664-518d75bde619",
   "metadata": {},
   "outputs": [
    {
     "name": "stdout",
     "output_type": "stream",
     "text": [
      "Predicted: \"Ankle boot\", Actual: \"Ankle boot\"\n",
      "Predicted: \"Pullover\", Actual: \"Pullover\"\n",
      "Predicted: \"Trouser\", Actual: \"Trouser\"\n",
      "Predicted: \"Trouser\", Actual: \"Trouser\"\n",
      "Predicted: \"Shirt\", Actual: \"Shirt\"\n",
      "Predicted: \"Trouser\", Actual: \"Trouser\"\n",
      "Predicted: \"Coat\", Actual: \"Coat\"\n",
      "Predicted: \"Shirt\", Actual: \"Shirt\"\n",
      "Predicted: \"Sandal\", Actual: \"Sandal\"\n",
      "Predicted: \"Sneaker\", Actual: \"Sneaker\"\n",
      "Predicted: \"Coat\", Actual: \"Coat\"\n",
      "Predicted: \"Sandal\", Actual: \"Sandal\"\n",
      "Predicted: \"Sandal\", Actual: \"Sneaker\"\n",
      "Predicted: \"Dress\", Actual: \"Dress\"\n",
      "Predicted: \"Coat\", Actual: \"Coat\"\n",
      "Predicted: \"Trouser\", Actual: \"Trouser\"\n",
      "Predicted: \"Pullover\", Actual: \"Pullover\"\n",
      "Predicted: \"Shirt\", Actual: \"Coat\"\n",
      "Predicted: \"Bag\", Actual: \"Bag\"\n",
      "Predicted: \"T-shirt/top\", Actual: \"T-shirt/top\"\n"
     ]
    }
   ],
   "source": [
    "classes = [\n",
    "    \"T-shirt/top\",\n",
    "    \"Trouser\",\n",
    "    \"Pullover\",\n",
    "    \"Dress\",\n",
    "    \"Coat\",\n",
    "    \"Sandal\",\n",
    "    \"Shirt\",\n",
    "    \"Sneaker\",\n",
    "    \"Bag\",\n",
    "    \"Ankle boot\",\n",
    "]\n",
    "\n",
    "model.eval()\n",
    "for k in range(20):\n",
    "    x, y = test_data[k][0], test_data[k][1]\n",
    "    with torch.no_grad():\n",
    "        x = x.to(device)\n",
    "        pred = model(x)\n",
    "        predicted, actual = classes[pred[0].argmax(0)], classes[y]\n",
    "        print(f'Predicted: \"{predicted}\", Actual: \"{actual}\"') "
   ]
  },
  {
   "cell_type": "code",
   "execution_count": null,
   "id": "fb159fc0-48b2-4d8d-aa8b-79b9c7e0106d",
   "metadata": {},
   "outputs": [],
   "source": []
  }
 ],
 "metadata": {
  "kernelspec": {
   "display_name": "Python 3 (ipykernel)",
   "language": "python",
   "name": "python3"
  },
  "language_info": {
   "codemirror_mode": {
    "name": "ipython",
    "version": 3
   },
   "file_extension": ".py",
   "mimetype": "text/x-python",
   "name": "python",
   "nbconvert_exporter": "python",
   "pygments_lexer": "ipython3",
   "version": "3.12.4"
  }
 },
 "nbformat": 4,
 "nbformat_minor": 5
}
